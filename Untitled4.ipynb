{
  "nbformat": 4,
  "nbformat_minor": 0,
  "metadata": {
    "colab": {
      "name": "Untitled4.ipynb",
      "provenance": [],
      "collapsed_sections": [],
      "include_colab_link": true
    },
    "kernelspec": {
      "name": "python3",
      "display_name": "Python 3"
    }
  },
  "cells": [
    {
      "cell_type": "markdown",
      "metadata": {
        "id": "view-in-github",
        "colab_type": "text"
      },
      "source": [
        "<a href=\"https://colab.research.google.com/github/thanhuitha/Compress-IMG-with-RLE/blob/master/Untitled4.ipynb\" target=\"_parent\"><img src=\"https://colab.research.google.com/assets/colab-badge.svg\" alt=\"Open In Colab\"/></a>"
      ]
    },
    {
      "cell_type": "code",
      "metadata": {
        "id": "krSAWU0N3OfY",
        "colab_type": "code",
        "colab": {
          "base_uri": "https://localhost:8080/",
          "height": 34
        },
        "outputId": "81b2a3fc-b0e6-43aa-c507-46aabf36ea6f"
      },
      "source": [
        "import pandas as pd\n",
        "\n",
        "url = 'https://raw.githubusercontent.com/thanhuitha/DataSet/master/Facebook_live_ThaiLand.csv'\n",
        "data = pd.read_csv(url,delimiter=',')"
      ],
      "execution_count": 69,
      "outputs": [
        {
          "output_type": "execute_result",
          "data": {
            "text/plain": [
              "0.0"
            ]
          },
          "metadata": {
            "tags": []
          },
          "execution_count": 69
        }
      ]
    },
    {
      "cell_type": "markdown",
      "metadata": {
        "id": "tniuea3w74go",
        "colab_type": "text"
      },
      "source": [
        ""
      ]
    },
    {
      "cell_type": "code",
      "metadata": {
        "id": "oG2Pgy80E-dQ",
        "colab_type": "code",
        "colab": {
          "base_uri": "https://localhost:8080/",
          "height": 235
        },
        "outputId": "4130ef05-8245-4cdb-c04d-e4771b85e6b5"
      },
      "source": [
        "data.count()"
      ],
      "execution_count": 78,
      "outputs": [
        {
          "output_type": "execute_result",
          "data": {
            "text/plain": [
              "status_id           7050\n",
              "status_type         7050\n",
              "status_published    7050\n",
              "num_reactions       7050\n",
              "num_comments        7050\n",
              "num_shares          7050\n",
              "num_likes           7050\n",
              "num_loves           7050\n",
              "num_wows            7050\n",
              "num_hahas           7050\n",
              "num_sads            7050\n",
              "num_angrys          7050\n",
              "dtype: int64"
            ]
          },
          "metadata": {
            "tags": []
          },
          "execution_count": 78
        }
      ]
    },
    {
      "cell_type": "code",
      "metadata": {
        "id": "fp3UrOeHMPut",
        "colab_type": "code",
        "colab": {
          "base_uri": "https://localhost:8080/",
          "height": 1000
        },
        "outputId": "32a8ae0c-de74-46c6-e32c-478fe3503087"
      },
      "source": [
        "data.groupby('status_id').count().status_published"
      ],
      "execution_count": 83,
      "outputs": [
        {
          "output_type": "execute_result",
          "data": {
            "text/plain": [
              "status_id\n",
              "1050855161656896_1050858841656528    1\n",
              "1050855161656896_1058663487542730    1\n",
              "1050855161656896_1060126464063099    1\n",
              "1050855161656896_1061334757275603    1\n",
              "1050855161656896_1061863470556065    1\n",
              "1050855161656896_1061906620551750    1\n",
              "1050855161656896_1061918183883927    1\n",
              "1050855161656896_1061944223881323    1\n",
              "1050855161656896_1062020473873698    1\n",
              "1050855161656896_1063071050435307    1\n",
              "1050855161656896_1063592313716514    1\n",
              "1050855161656896_1067647913310954    1\n",
              "1050855161656896_1070127156396363    1\n",
              "1050855161656896_1073563326052746    1\n",
              "1050855161656896_1074576555951423    1\n",
              "1050855161656896_1075094719232940    1\n",
              "1050855161656896_1075096739232738    1\n",
              "1050855161656896_1075422549200157    1\n",
              "1050855161656896_1075998879142524    1\n",
              "1050855161656896_1077407169001695    1\n",
              "1050855161656896_1077472635661815    1\n",
              "1050855161656896_1077531542322591    1\n",
              "1050855161656896_1077754805633598    1\n",
              "1050855161656896_1079730855435993    1\n",
              "1050855161656896_1082363701839375    1\n",
              "1050855161656896_1084623804946698    1\n",
              "1050855161656896_1086181854790893    1\n",
              "1050855161656896_1087021054706973    1\n",
              "1050855161656896_1087928124616266    1\n",
              "1050855161656896_1090116271064118    1\n",
              "                                    ..\n",
              "848451358648417_965744920252393      1\n",
              "848451358648417_965843866909165      1\n",
              "848451358648417_966235210203364      1\n",
              "848451358648417_966338723526346      1\n",
              "848451358648417_966805613479657      1\n",
              "848451358648417_966883433471875      1\n",
              "848451358648417_967412336752318      1\n",
              "848451358648417_967863710040514      1\n",
              "848451358648417_968586716634880      1\n",
              "848451358648417_969542786539273      1\n",
              "848451358648417_969542806539271      1\n",
              "848451358648417_970069689819916      1\n",
              "848451358648417_970069959819889      1\n",
              "848451358648417_970118009815084      1\n",
              "848451358648417_970616963098522      1\n",
              "848451358648417_970637246429827      1\n",
              "848451358648417_971101979716687      1\n",
              "848451358648417_971772712982947      1\n",
              "848451358648417_972198162940402      1\n",
              "848451358648417_972299779596907      1\n",
              "848451358648417_972315126262039      1\n",
              "848451358648417_972768116216740      1\n",
              "848451358648417_972821396211412      1\n",
              "848451358648417_973903299436555      1\n",
              "848451358648417_974497706043781      1\n",
              "848451358648417_976109395882612      1\n",
              "848451358648417_976221575871394      1\n",
              "848451358648417_976951619131723      1\n",
              "848451358648417_978641952296023      1\n",
              "848451358648417_978696712290547      1\n",
              "Name: status_published, Length: 6997, dtype: int64"
            ]
          },
          "metadata": {
            "tags": []
          },
          "execution_count": 83
        }
      ]
    },
    {
      "cell_type": "code",
      "metadata": {
        "id": "rhjeITgfQ0H_",
        "colab_type": "code",
        "colab": {}
      },
      "source": [
        ""
      ],
      "execution_count": 0,
      "outputs": []
    }
  ]
}